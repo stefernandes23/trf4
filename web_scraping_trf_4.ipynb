{
 "cells": [
  {
   "cell_type": "markdown",
   "metadata": {},
   "source": [
    "Selenium (Selênio): biblioteca de testes web usada para automatizar as atividades do navegador.\n"
   ]
  },
  {
   "cell_type": "markdown",
   "metadata": {},
   "source": [
    "BeautifulSoup: pacote para análise de documentos HTML e XML. Ele cria árvores de análise."
   ]
  },
  {
   "cell_type": "markdown",
   "metadata": {},
   "source": [
    "Requests: tem como finalidade tornar as solicitações HTTP mais amigáveis e simples."
   ]
  },
  {
   "cell_type": "markdown",
   "metadata": {},
   "source": [
    "Scrapy: framework open source para extrair informações em websites.\n"
   ]
  },
  {
   "cell_type": "markdown",
   "metadata": {},
   "source": [
    "## Google Chrome"
   ]
  },
  {
   "cell_type": "code",
   "execution_count": 1,
   "metadata": {},
   "outputs": [],
   "source": [
    "#importando bibliotecas\n",
    "\n",
    "# def log_trf4\n",
    "\n",
    "from selenium import webdriver #navegador\n",
    "from selenium.webdriver.chrome.service import Service as ChromeService\n",
    "from selenium.webdriver.common.by import By # achar os elementos\n",
    "from selenium.webdriver.common.keys import Keys #para digitar no teclado da web\n",
    "from webdriver_manager.chrome import ChromeDriverManager\n",
    "import time\n",
    "import requests\n",
    "from bs4 import BeautifulSoup"
   ]
  },
  {
   "cell_type": "code",
   "execution_count": 2,
   "metadata": {},
   "outputs": [
    {
     "name": "stderr",
     "output_type": "stream",
     "text": [
      "\n",
      "\n",
      "====== WebDriver manager ======\n",
      "Current google-chrome version is 108.0.5359\n",
      "Get LATEST chromedriver version for 108.0.5359 google-chrome\n",
      "There is no [win32] chromedriver for browser  in cache\n",
      "Trying to download new driver from https://chromedriver.storage.googleapis.com/108.0.5359.71/chromedriver_win32.zip\n",
      "Driver has been saved in cache [C:\\Users\\Usuário\\.wdm\\drivers\\chromedriver\\win32\\108.0.5359.71]\n"
     ]
    },
    {
     "ename": "WebDriverException",
     "evalue": "Message: unknown error: Chrome failed to start: exited normally.\n  (unknown error: DevToolsActivePort file doesn't exist)\n  (The process started from chrome location C:\\Program Files\\Google\\Chrome\\Application\\chrome.exe is no longer running, so ChromeDriver is assuming that Chrome has crashed.)\nStacktrace:\nBacktrace:\n\t(No symbol) [0x00F3F243]\n\t(No symbol) [0x00EC7FD1]\n\t(No symbol) [0x00DBD04D]\n\t(No symbol) [0x00DDC24E]\n\t(No symbol) [0x00DD82E9]\n\t(No symbol) [0x00E0F056]\n\t(No symbol) [0x00E0EB2A]\n\t(No symbol) [0x00E08386]\n\t(No symbol) [0x00DE163C]\n\t(No symbol) [0x00DE269D]\n\tGetHandleVerifier [0x011D9A22+2655074]\n\tGetHandleVerifier [0x011CCA24+2601828]\n\tGetHandleVerifier [0x00FE8C0A+619850]\n\tGetHandleVerifier [0x00FE7830+614768]\n\t(No symbol) [0x00ED05FC]\n\t(No symbol) [0x00ED5968]\n\t(No symbol) [0x00ED5A55]\n\t(No symbol) [0x00EE051B]\n\tBaseThreadInitThunk [0x76B16BD9+25]\n\tRtlGetFullPathName_UEx [0x775D8FD2+1218]\n\tRtlGetFullPathName_UEx [0x775D8F9D+1165]\n",
     "output_type": "error",
     "traceback": [
      "\u001b[1;31m---------------------------------------------------------------------------\u001b[0m",
      "\u001b[1;31mWebDriverException\u001b[0m                        Traceback (most recent call last)",
      "\u001b[1;32mC:\\Users\\USURIO~1\\AppData\\Local\\Temp/ipykernel_8852/4282315207.py\u001b[0m in \u001b[0;36m<module>\u001b[1;34m\u001b[0m\n\u001b[1;32m----> 1\u001b[1;33m driver = webdriver.Chrome(service=ChromeService(\n\u001b[0m\u001b[0;32m      2\u001b[0m     ChromeDriverManager().install()))\n\u001b[0;32m      3\u001b[0m \u001b[1;33m\u001b[0m\u001b[0m\n\u001b[0;32m      4\u001b[0m \u001b[1;31m#entrando no EPROC\u001b[0m\u001b[1;33m\u001b[0m\u001b[1;33m\u001b[0m\u001b[0m\n\u001b[0;32m      5\u001b[0m \u001b[0mdriver\u001b[0m\u001b[1;33m.\u001b[0m\u001b[0mget\u001b[0m\u001b[1;33m(\u001b[0m\u001b[1;34m\"https://eproc.trf4.jus.br/eproc2trf4/controlador.php?acao=painel_adv_listar&acao_origem=principal&hash=c5248d6d478eb887a337ddea295c6e21\"\u001b[0m\u001b[1;33m)\u001b[0m\u001b[1;33m\u001b[0m\u001b[1;33m\u001b[0m\u001b[0m\n",
      "\u001b[1;32mc:\\ProgramData\\Anaconda3\\lib\\site-packages\\selenium\\webdriver\\chrome\\webdriver.py\u001b[0m in \u001b[0;36m__init__\u001b[1;34m(self, executable_path, port, options, service_args, desired_capabilities, service_log_path, chrome_options, service, keep_alive)\u001b[0m\n\u001b[0;32m     68\u001b[0m             \u001b[0mservice\u001b[0m \u001b[1;33m=\u001b[0m \u001b[0mService\u001b[0m\u001b[1;33m(\u001b[0m\u001b[0mexecutable_path\u001b[0m\u001b[1;33m,\u001b[0m \u001b[0mport\u001b[0m\u001b[1;33m,\u001b[0m \u001b[0mservice_args\u001b[0m\u001b[1;33m,\u001b[0m \u001b[0mservice_log_path\u001b[0m\u001b[1;33m)\u001b[0m\u001b[1;33m\u001b[0m\u001b[1;33m\u001b[0m\u001b[0m\n\u001b[0;32m     69\u001b[0m \u001b[1;33m\u001b[0m\u001b[0m\n\u001b[1;32m---> 70\u001b[1;33m         super(WebDriver, self).__init__(DesiredCapabilities.CHROME['browserName'], \"goog\",\n\u001b[0m\u001b[0;32m     71\u001b[0m                                         \u001b[0mport\u001b[0m\u001b[1;33m,\u001b[0m \u001b[0moptions\u001b[0m\u001b[1;33m,\u001b[0m\u001b[1;33m\u001b[0m\u001b[1;33m\u001b[0m\u001b[0m\n\u001b[0;32m     72\u001b[0m                                         \u001b[0mservice_args\u001b[0m\u001b[1;33m,\u001b[0m \u001b[0mdesired_capabilities\u001b[0m\u001b[1;33m,\u001b[0m\u001b[1;33m\u001b[0m\u001b[1;33m\u001b[0m\u001b[0m\n",
      "\u001b[1;32mc:\\ProgramData\\Anaconda3\\lib\\site-packages\\selenium\\webdriver\\chromium\\webdriver.py\u001b[0m in \u001b[0;36m__init__\u001b[1;34m(self, browser_name, vendor_prefix, port, options, service_args, desired_capabilities, service_log_path, service, keep_alive)\u001b[0m\n\u001b[0;32m     91\u001b[0m \u001b[1;33m\u001b[0m\u001b[0m\n\u001b[0;32m     92\u001b[0m         \u001b[1;32mtry\u001b[0m\u001b[1;33m:\u001b[0m\u001b[1;33m\u001b[0m\u001b[1;33m\u001b[0m\u001b[0m\n\u001b[1;32m---> 93\u001b[1;33m             RemoteWebDriver.__init__(\n\u001b[0m\u001b[0;32m     94\u001b[0m                 \u001b[0mself\u001b[0m\u001b[1;33m,\u001b[0m\u001b[1;33m\u001b[0m\u001b[1;33m\u001b[0m\u001b[0m\n\u001b[0;32m     95\u001b[0m                 command_executor=ChromiumRemoteConnection(\n",
      "\u001b[1;32mc:\\ProgramData\\Anaconda3\\lib\\site-packages\\selenium\\webdriver\\remote\\webdriver.py\u001b[0m in \u001b[0;36m__init__\u001b[1;34m(self, command_executor, desired_capabilities, browser_profile, proxy, keep_alive, file_detector, options)\u001b[0m\n\u001b[0;32m    266\u001b[0m         \u001b[0mself\u001b[0m\u001b[1;33m.\u001b[0m\u001b[0mfile_detector\u001b[0m \u001b[1;33m=\u001b[0m \u001b[0mfile_detector\u001b[0m \u001b[1;32mor\u001b[0m \u001b[0mLocalFileDetector\u001b[0m\u001b[1;33m(\u001b[0m\u001b[1;33m)\u001b[0m\u001b[1;33m\u001b[0m\u001b[1;33m\u001b[0m\u001b[0m\n\u001b[0;32m    267\u001b[0m         \u001b[0mself\u001b[0m\u001b[1;33m.\u001b[0m\u001b[0mstart_client\u001b[0m\u001b[1;33m(\u001b[0m\u001b[1;33m)\u001b[0m\u001b[1;33m\u001b[0m\u001b[1;33m\u001b[0m\u001b[0m\n\u001b[1;32m--> 268\u001b[1;33m         \u001b[0mself\u001b[0m\u001b[1;33m.\u001b[0m\u001b[0mstart_session\u001b[0m\u001b[1;33m(\u001b[0m\u001b[0mcapabilities\u001b[0m\u001b[1;33m,\u001b[0m \u001b[0mbrowser_profile\u001b[0m\u001b[1;33m)\u001b[0m\u001b[1;33m\u001b[0m\u001b[1;33m\u001b[0m\u001b[0m\n\u001b[0m\u001b[0;32m    269\u001b[0m \u001b[1;33m\u001b[0m\u001b[0m\n\u001b[0;32m    270\u001b[0m     \u001b[1;32mdef\u001b[0m \u001b[0m__repr__\u001b[0m\u001b[1;33m(\u001b[0m\u001b[0mself\u001b[0m\u001b[1;33m)\u001b[0m\u001b[1;33m:\u001b[0m\u001b[1;33m\u001b[0m\u001b[1;33m\u001b[0m\u001b[0m\n",
      "\u001b[1;32mc:\\ProgramData\\Anaconda3\\lib\\site-packages\\selenium\\webdriver\\remote\\webdriver.py\u001b[0m in \u001b[0;36mstart_session\u001b[1;34m(self, capabilities, browser_profile)\u001b[0m\n\u001b[0;32m    357\u001b[0m         parameters = {\"capabilities\": w3c_caps,\n\u001b[0;32m    358\u001b[0m                       \"desiredCapabilities\": capabilities}\n\u001b[1;32m--> 359\u001b[1;33m         \u001b[0mresponse\u001b[0m \u001b[1;33m=\u001b[0m \u001b[0mself\u001b[0m\u001b[1;33m.\u001b[0m\u001b[0mexecute\u001b[0m\u001b[1;33m(\u001b[0m\u001b[0mCommand\u001b[0m\u001b[1;33m.\u001b[0m\u001b[0mNEW_SESSION\u001b[0m\u001b[1;33m,\u001b[0m \u001b[0mparameters\u001b[0m\u001b[1;33m)\u001b[0m\u001b[1;33m\u001b[0m\u001b[1;33m\u001b[0m\u001b[0m\n\u001b[0m\u001b[0;32m    360\u001b[0m         \u001b[1;32mif\u001b[0m \u001b[1;34m'sessionId'\u001b[0m \u001b[1;32mnot\u001b[0m \u001b[1;32min\u001b[0m \u001b[0mresponse\u001b[0m\u001b[1;33m:\u001b[0m\u001b[1;33m\u001b[0m\u001b[1;33m\u001b[0m\u001b[0m\n\u001b[0;32m    361\u001b[0m             \u001b[0mresponse\u001b[0m \u001b[1;33m=\u001b[0m \u001b[0mresponse\u001b[0m\u001b[1;33m[\u001b[0m\u001b[1;34m'value'\u001b[0m\u001b[1;33m]\u001b[0m\u001b[1;33m\u001b[0m\u001b[1;33m\u001b[0m\u001b[0m\n",
      "\u001b[1;32mc:\\ProgramData\\Anaconda3\\lib\\site-packages\\selenium\\webdriver\\remote\\webdriver.py\u001b[0m in \u001b[0;36mexecute\u001b[1;34m(self, driver_command, params)\u001b[0m\n\u001b[0;32m    422\u001b[0m         \u001b[0mresponse\u001b[0m \u001b[1;33m=\u001b[0m \u001b[0mself\u001b[0m\u001b[1;33m.\u001b[0m\u001b[0mcommand_executor\u001b[0m\u001b[1;33m.\u001b[0m\u001b[0mexecute\u001b[0m\u001b[1;33m(\u001b[0m\u001b[0mdriver_command\u001b[0m\u001b[1;33m,\u001b[0m \u001b[0mparams\u001b[0m\u001b[1;33m)\u001b[0m\u001b[1;33m\u001b[0m\u001b[1;33m\u001b[0m\u001b[0m\n\u001b[0;32m    423\u001b[0m         \u001b[1;32mif\u001b[0m \u001b[0mresponse\u001b[0m\u001b[1;33m:\u001b[0m\u001b[1;33m\u001b[0m\u001b[1;33m\u001b[0m\u001b[0m\n\u001b[1;32m--> 424\u001b[1;33m             \u001b[0mself\u001b[0m\u001b[1;33m.\u001b[0m\u001b[0merror_handler\u001b[0m\u001b[1;33m.\u001b[0m\u001b[0mcheck_response\u001b[0m\u001b[1;33m(\u001b[0m\u001b[0mresponse\u001b[0m\u001b[1;33m)\u001b[0m\u001b[1;33m\u001b[0m\u001b[1;33m\u001b[0m\u001b[0m\n\u001b[0m\u001b[0;32m    425\u001b[0m             response['value'] = self._unwrap_value(\n\u001b[0;32m    426\u001b[0m                 response.get('value', None))\n",
      "\u001b[1;32mc:\\ProgramData\\Anaconda3\\lib\\site-packages\\selenium\\webdriver\\remote\\errorhandler.py\u001b[0m in \u001b[0;36mcheck_response\u001b[1;34m(self, response)\u001b[0m\n\u001b[0;32m    245\u001b[0m                 \u001b[0malert_text\u001b[0m \u001b[1;33m=\u001b[0m \u001b[0mvalue\u001b[0m\u001b[1;33m[\u001b[0m\u001b[1;34m'alert'\u001b[0m\u001b[1;33m]\u001b[0m\u001b[1;33m.\u001b[0m\u001b[0mget\u001b[0m\u001b[1;33m(\u001b[0m\u001b[1;34m'text'\u001b[0m\u001b[1;33m)\u001b[0m\u001b[1;33m\u001b[0m\u001b[1;33m\u001b[0m\u001b[0m\n\u001b[0;32m    246\u001b[0m             \u001b[1;32mraise\u001b[0m \u001b[0mexception_class\u001b[0m\u001b[1;33m(\u001b[0m\u001b[0mmessage\u001b[0m\u001b[1;33m,\u001b[0m \u001b[0mscreen\u001b[0m\u001b[1;33m,\u001b[0m \u001b[0mstacktrace\u001b[0m\u001b[1;33m,\u001b[0m \u001b[0malert_text\u001b[0m\u001b[1;33m)\u001b[0m  \u001b[1;31m# type: ignore[call-arg]  # mypy is not smart enough here\u001b[0m\u001b[1;33m\u001b[0m\u001b[1;33m\u001b[0m\u001b[0m\n\u001b[1;32m--> 247\u001b[1;33m         \u001b[1;32mraise\u001b[0m \u001b[0mexception_class\u001b[0m\u001b[1;33m(\u001b[0m\u001b[0mmessage\u001b[0m\u001b[1;33m,\u001b[0m \u001b[0mscreen\u001b[0m\u001b[1;33m,\u001b[0m \u001b[0mstacktrace\u001b[0m\u001b[1;33m)\u001b[0m\u001b[1;33m\u001b[0m\u001b[1;33m\u001b[0m\u001b[0m\n\u001b[0m\u001b[0;32m    248\u001b[0m \u001b[1;33m\u001b[0m\u001b[0m\n\u001b[0;32m    249\u001b[0m     \u001b[1;32mdef\u001b[0m \u001b[0m_value_or_default\u001b[0m\u001b[1;33m(\u001b[0m\u001b[0mself\u001b[0m\u001b[1;33m,\u001b[0m \u001b[0mobj\u001b[0m\u001b[1;33m:\u001b[0m \u001b[0mMapping\u001b[0m\u001b[1;33m[\u001b[0m\u001b[0m_KT\u001b[0m\u001b[1;33m,\u001b[0m \u001b[0m_VT\u001b[0m\u001b[1;33m]\u001b[0m\u001b[1;33m,\u001b[0m \u001b[0mkey\u001b[0m\u001b[1;33m:\u001b[0m \u001b[0m_KT\u001b[0m\u001b[1;33m,\u001b[0m \u001b[0mdefault\u001b[0m\u001b[1;33m:\u001b[0m \u001b[0m_VT\u001b[0m\u001b[1;33m)\u001b[0m \u001b[1;33m->\u001b[0m \u001b[0m_VT\u001b[0m\u001b[1;33m:\u001b[0m\u001b[1;33m\u001b[0m\u001b[1;33m\u001b[0m\u001b[0m\n",
      "\u001b[1;31mWebDriverException\u001b[0m: Message: unknown error: Chrome failed to start: exited normally.\n  (unknown error: DevToolsActivePort file doesn't exist)\n  (The process started from chrome location C:\\Program Files\\Google\\Chrome\\Application\\chrome.exe is no longer running, so ChromeDriver is assuming that Chrome has crashed.)\nStacktrace:\nBacktrace:\n\t(No symbol) [0x00F3F243]\n\t(No symbol) [0x00EC7FD1]\n\t(No symbol) [0x00DBD04D]\n\t(No symbol) [0x00DDC24E]\n\t(No symbol) [0x00DD82E9]\n\t(No symbol) [0x00E0F056]\n\t(No symbol) [0x00E0EB2A]\n\t(No symbol) [0x00E08386]\n\t(No symbol) [0x00DE163C]\n\t(No symbol) [0x00DE269D]\n\tGetHandleVerifier [0x011D9A22+2655074]\n\tGetHandleVerifier [0x011CCA24+2601828]\n\tGetHandleVerifier [0x00FE8C0A+619850]\n\tGetHandleVerifier [0x00FE7830+614768]\n\t(No symbol) [0x00ED05FC]\n\t(No symbol) [0x00ED5968]\n\t(No symbol) [0x00ED5A55]\n\t(No symbol) [0x00EE051B]\n\tBaseThreadInitThunk [0x76B16BD9+25]\n\tRtlGetFullPathName_UEx [0x775D8FD2+1218]\n\tRtlGetFullPathName_UEx [0x775D8F9D+1165]\n"
     ]
    }
   ],
   "source": [
    "driver = webdriver.Chrome(service=ChromeService(\n",
    "    ChromeDriverManager().install()))\n",
    "\n",
    "#entrando no EPROC \n",
    "driver.get(\"https://eproc.trf4.jus.br/eproc2trf4/controlador.php?acao=painel_adv_listar&acao_origem=principal&hash=c5248d6d478eb887a337ddea295c6e21\")\n",
    "\n",
    "time.sleep(3)\n",
    "botao_log_certificado = driver.find_element(\"xpath\", '//*[@id=\"imgCertificado\"]')\n",
    "botao_log_certificado.click()\n",
    "time.sleep (3)"
   ]
  },
  {
   "cell_type": "markdown",
   "metadata": {},
   "source": [
    "# Excel"
   ]
  },
  {
   "cell_type": "markdown",
   "metadata": {},
   "source": [
    "### 0 - Visualização da lista"
   ]
  },
  {
   "cell_type": "code",
   "execution_count": 2,
   "metadata": {},
   "outputs": [
    {
     "data": {
      "text/html": [
       "<div>\n",
       "<style scoped>\n",
       "    .dataframe tbody tr th:only-of-type {\n",
       "        vertical-align: middle;\n",
       "    }\n",
       "\n",
       "    .dataframe tbody tr th {\n",
       "        vertical-align: top;\n",
       "    }\n",
       "\n",
       "    .dataframe thead th {\n",
       "        text-align: right;\n",
       "    }\n",
       "</style>\n",
       "<table border=\"1\" class=\"dataframe\">\n",
       "  <thead>\n",
       "    <tr style=\"text-align: right;\">\n",
       "      <th></th>\n",
       "      <th>Nº de Ordem Cronológica</th>\n",
       "      <th>Proposta</th>\n",
       "      <th>Base legal para enquadramento na ordem cronológica</th>\n",
       "      <th>Número do Precatório</th>\n",
       "      <th>CPF/CNPJ parcial do beneficiário</th>\n",
       "      <th>Data de Autuação no TRF4</th>\n",
       "      <th>Atualizado Até</th>\n",
       "      <th>Parcela Devida</th>\n",
       "      <th>Valor Original Pago</th>\n",
       "      <th>Data Pagamento</th>\n",
       "      <th>Valor Pago</th>\n",
       "      <th></th>\n",
       "    </tr>\n",
       "  </thead>\n",
       "  <tbody>\n",
       "    <tr>\n",
       "      <th>0</th>\n",
       "      <td>1</td>\n",
       "      <td>2022</td>\n",
       "      <td>Alimentares, Art. 107 A, §8º, Inciso II</td>\n",
       "      <td>5033843-81.2020.4.04.9388</td>\n",
       "      <td>414********</td>\n",
       "      <td>1998-04-07 00:00:00</td>\n",
       "      <td>2021-07-01</td>\n",
       "      <td>16554.12</td>\n",
       "      <td>16554.12</td>\n",
       "      <td>2022-08-01</td>\n",
       "      <td>18571.63</td>\n",
       "      <td>NaN</td>\n",
       "    </tr>\n",
       "    <tr>\n",
       "      <th>1</th>\n",
       "      <td>2</td>\n",
       "      <td>2022</td>\n",
       "      <td>Alimentares, Art. 107 A, §8º, Inciso II</td>\n",
       "      <td>5033844-66.2020.4.04.9388</td>\n",
       "      <td>193********</td>\n",
       "      <td>1998-04-07 00:00:00</td>\n",
       "      <td>2021-07-01</td>\n",
       "      <td>8277.06</td>\n",
       "      <td>8277.06</td>\n",
       "      <td>2022-08-01</td>\n",
       "      <td>9285.81</td>\n",
       "      <td>NaN</td>\n",
       "    </tr>\n",
       "    <tr>\n",
       "      <th>2</th>\n",
       "      <td>3</td>\n",
       "      <td>2022</td>\n",
       "      <td>Alimentares, Art. 107 A, §8º, Inciso II</td>\n",
       "      <td>5033845-51.2020.4.04.9388</td>\n",
       "      <td>950********</td>\n",
       "      <td>1998-04-07 00:00:00</td>\n",
       "      <td>2021-07-01</td>\n",
       "      <td>8277.06</td>\n",
       "      <td>8277.06</td>\n",
       "      <td>2022-08-01</td>\n",
       "      <td>9285.81</td>\n",
       "      <td>NaN</td>\n",
       "    </tr>\n",
       "    <tr>\n",
       "      <th>3</th>\n",
       "      <td>4</td>\n",
       "      <td>2022</td>\n",
       "      <td>Alimentares, Art. 107 A, §8º, Inciso II</td>\n",
       "      <td>5033846-36.2020.4.04.9388</td>\n",
       "      <td>391********</td>\n",
       "      <td>1998-04-07 00:00:00</td>\n",
       "      <td>2021-07-01</td>\n",
       "      <td>5517.96</td>\n",
       "      <td>5517.96</td>\n",
       "      <td>2022-08-01</td>\n",
       "      <td>6190.45</td>\n",
       "      <td>NaN</td>\n",
       "    </tr>\n",
       "    <tr>\n",
       "      <th>4</th>\n",
       "      <td>5</td>\n",
       "      <td>2022</td>\n",
       "      <td>Alimentares, Art. 107 A, §8º, Inciso II</td>\n",
       "      <td>5033847-21.2020.4.04.9388</td>\n",
       "      <td>261********</td>\n",
       "      <td>1998-04-07 00:00:00</td>\n",
       "      <td>2021-07-01</td>\n",
       "      <td>5518.07</td>\n",
       "      <td>5518.07</td>\n",
       "      <td>2022-08-01</td>\n",
       "      <td>6190.58</td>\n",
       "      <td>NaN</td>\n",
       "    </tr>\n",
       "    <tr>\n",
       "      <th>...</th>\n",
       "      <td>...</td>\n",
       "      <td>...</td>\n",
       "      <td>...</td>\n",
       "      <td>...</td>\n",
       "      <td>...</td>\n",
       "      <td>...</td>\n",
       "      <td>...</td>\n",
       "      <td>...</td>\n",
       "      <td>...</td>\n",
       "      <td>...</td>\n",
       "      <td>...</td>\n",
       "      <td>...</td>\n",
       "    </tr>\n",
       "    <tr>\n",
       "      <th>125208</th>\n",
       "      <td>113140</td>\n",
       "      <td>2023</td>\n",
       "      <td>Alimentares, Art. 107 A, §8º, Inciso III</td>\n",
       "      <td>5015523-12.2022.4.04.9388</td>\n",
       "      <td>031***********</td>\n",
       "      <td>2022-04-01 17:40:00</td>\n",
       "      <td>2022-04-01</td>\n",
       "      <td>4.74</td>\n",
       "      <td>NaN</td>\n",
       "      <td>NaT</td>\n",
       "      <td>NaN</td>\n",
       "      <td>NaN</td>\n",
       "    </tr>\n",
       "    <tr>\n",
       "      <th>125209</th>\n",
       "      <td>113142</td>\n",
       "      <td>2023</td>\n",
       "      <td>Alimentares, Art. 107 A, §8º, Inciso III</td>\n",
       "      <td>5015524-94.2022.4.04.9388</td>\n",
       "      <td>031***********</td>\n",
       "      <td>2022-04-01 17:40:00</td>\n",
       "      <td>2022-04-01</td>\n",
       "      <td>4.74</td>\n",
       "      <td>NaN</td>\n",
       "      <td>NaT</td>\n",
       "      <td>NaN</td>\n",
       "      <td>NaN</td>\n",
       "    </tr>\n",
       "    <tr>\n",
       "      <th>125210</th>\n",
       "      <td>113144</td>\n",
       "      <td>2023</td>\n",
       "      <td>Alimentares, Art. 107 A, §8º, Inciso III</td>\n",
       "      <td>5015525-79.2022.4.04.9388</td>\n",
       "      <td>031***********</td>\n",
       "      <td>2022-04-01 17:40:00</td>\n",
       "      <td>2022-04-01</td>\n",
       "      <td>4.74</td>\n",
       "      <td>NaN</td>\n",
       "      <td>NaT</td>\n",
       "      <td>NaN</td>\n",
       "      <td>NaN</td>\n",
       "    </tr>\n",
       "    <tr>\n",
       "      <th>125211</th>\n",
       "      <td>87088</td>\n",
       "      <td>2023</td>\n",
       "      <td>Alimentares, Art. 107 A, §8º,, Inciso II</td>\n",
       "      <td>5008573-84.2022.4.04.9388</td>\n",
       "      <td>028***********</td>\n",
       "      <td>2022-03-28 22:04:00</td>\n",
       "      <td>2022-04-01</td>\n",
       "      <td>2.87</td>\n",
       "      <td>NaN</td>\n",
       "      <td>NaT</td>\n",
       "      <td>NaN</td>\n",
       "      <td>NaN</td>\n",
       "    </tr>\n",
       "    <tr>\n",
       "      <th>125212</th>\n",
       "      <td>84233</td>\n",
       "      <td>2023</td>\n",
       "      <td>Alimentares, Art. 107 A, §8º,, Inciso II</td>\n",
       "      <td>5005080-02.2022.4.04.9388</td>\n",
       "      <td>670********</td>\n",
       "      <td>2022-03-11 17:10:00</td>\n",
       "      <td>2022-04-01</td>\n",
       "      <td>0.74</td>\n",
       "      <td>NaN</td>\n",
       "      <td>NaT</td>\n",
       "      <td>NaN</td>\n",
       "      <td>NaN</td>\n",
       "    </tr>\n",
       "  </tbody>\n",
       "</table>\n",
       "<p>125213 rows × 12 columns</p>\n",
       "</div>"
      ],
      "text/plain": [
       "        Nº de Ordem Cronológica   Proposta  \\\n",
       "0                             1       2022   \n",
       "1                             2       2022   \n",
       "2                             3       2022   \n",
       "3                             4       2022   \n",
       "4                             5       2022   \n",
       "...                         ...        ...   \n",
       "125208                   113140       2023   \n",
       "125209                   113142       2023   \n",
       "125210                   113144       2023   \n",
       "125211                    87088       2023   \n",
       "125212                    84233       2023   \n",
       "\n",
       "        Base legal para enquadramento na ordem cronológica  \\\n",
       "0                 Alimentares, Art. 107 A, §8º, Inciso II    \n",
       "1                 Alimentares, Art. 107 A, §8º, Inciso II    \n",
       "2                 Alimentares, Art. 107 A, §8º, Inciso II    \n",
       "3                 Alimentares, Art. 107 A, §8º, Inciso II    \n",
       "4                 Alimentares, Art. 107 A, §8º, Inciso II    \n",
       "...                                                   ...    \n",
       "125208           Alimentares, Art. 107 A, §8º, Inciso III    \n",
       "125209           Alimentares, Art. 107 A, §8º, Inciso III    \n",
       "125210           Alimentares, Art. 107 A, §8º, Inciso III    \n",
       "125211           Alimentares, Art. 107 A, §8º,, Inciso II    \n",
       "125212           Alimentares, Art. 107 A, §8º,, Inciso II    \n",
       "\n",
       "             Número do Precatório  CPF/CNPJ parcial do beneficiário  \\\n",
       "0       5033843-81.2020.4.04.9388                       414********   \n",
       "1       5033844-66.2020.4.04.9388                       193********   \n",
       "2       5033845-51.2020.4.04.9388                       950********   \n",
       "3       5033846-36.2020.4.04.9388                       391********   \n",
       "4       5033847-21.2020.4.04.9388                       261********   \n",
       "...                           ...                               ...   \n",
       "125208  5015523-12.2022.4.04.9388                    031***********   \n",
       "125209  5015524-94.2022.4.04.9388                    031***********   \n",
       "125210  5015525-79.2022.4.04.9388                    031***********   \n",
       "125211  5008573-84.2022.4.04.9388                    028***********   \n",
       "125212  5005080-02.2022.4.04.9388                       670********   \n",
       "\n",
       "        Data de Autuação no TRF4  Atualizado Até   Parcela Devida  \\\n",
       "0            1998-04-07 00:00:00      2021-07-01         16554.12   \n",
       "1            1998-04-07 00:00:00      2021-07-01          8277.06   \n",
       "2            1998-04-07 00:00:00      2021-07-01          8277.06   \n",
       "3            1998-04-07 00:00:00      2021-07-01          5517.96   \n",
       "4            1998-04-07 00:00:00      2021-07-01          5518.07   \n",
       "...                          ...             ...              ...   \n",
       "125208       2022-04-01 17:40:00      2022-04-01             4.74   \n",
       "125209       2022-04-01 17:40:00      2022-04-01             4.74   \n",
       "125210       2022-04-01 17:40:00      2022-04-01             4.74   \n",
       "125211       2022-03-28 22:04:00      2022-04-01             2.87   \n",
       "125212       2022-03-11 17:10:00      2022-04-01             0.74   \n",
       "\n",
       "         Valor Original Pago  Data Pagamento   Valor Pago      \n",
       "0                   16554.12      2022-08-01     18571.63 NaN  \n",
       "1                    8277.06      2022-08-01      9285.81 NaN  \n",
       "2                    8277.06      2022-08-01      9285.81 NaN  \n",
       "3                    5517.96      2022-08-01      6190.45 NaN  \n",
       "4                    5518.07      2022-08-01      6190.58 NaN  \n",
       "...                      ...             ...          ...  ..  \n",
       "125208                   NaN             NaT          NaN NaN  \n",
       "125209                   NaN             NaT          NaN NaN  \n",
       "125210                   NaN             NaT          NaN NaN  \n",
       "125211                   NaN             NaT          NaN NaN  \n",
       "125212                   NaN             NaT          NaN NaN  \n",
       "\n",
       "[125213 rows x 12 columns]"
      ]
     },
     "metadata": {},
     "output_type": "display_data"
    }
   ],
   "source": [
    "# def\n",
    "\n",
    "#importando bibliotecas\n",
    "import pandas as pd # serve para ler e manipular o arquivo excel\n",
    "# visualização\n",
    "trf4 = pd.read_excel(\"C:\\\\Users\\\\Usuário\\\\Downloads\\\\trf4.xlsx\")\n",
    "display(trf4)\n"
   ]
  },
  {
   "cell_type": "markdown",
   "metadata": {},
   "source": [
    "renomear coluna"
   ]
  },
  {
   "cell_type": "code",
   "execution_count": 3,
   "metadata": {},
   "outputs": [],
   "source": [
    "trf4.columns = ['nº','ano_proposta', 'tipo_prc','num_prc', 'cpf_cnpj', 'data_atuacao', 'data_atualizacao', 'parcela_devida', 'valor_original_pago','data_pagamento','valor_pago', 'nulo']"
   ]
  },
  {
   "cell_type": "code",
   "execution_count": null,
   "metadata": {},
   "outputs": [],
   "source": [
    "trf4['num_prc']"
   ]
  },
  {
   "cell_type": "code",
   "execution_count": 5,
   "metadata": {},
   "outputs": [],
   "source": [
    "num_proc = trf4['num_prc']"
   ]
  },
  {
   "cell_type": "code",
   "execution_count": null,
   "metadata": {},
   "outputs": [],
   "source": [
    "for index, number in trf4['num_prc'].iteritems():\n",
    "    trf4['num_prc'].copy(deep=True)"
   ]
  },
  {
   "cell_type": "code",
   "execution_count": 23,
   "metadata": {},
   "outputs": [],
   "source": [
    "for index, row in trf4.iterrows():\n",
    "    if str(row['num_prc']) == 1:\n",
    "        print(row['num_prc'])"
   ]
  },
  {
   "cell_type": "markdown",
   "metadata": {},
   "source": [
    "Colocar dados em LOOP"
   ]
  },
  {
   "cell_type": "code",
   "execution_count": null,
   "metadata": {},
   "outputs": [],
   "source": []
  },
  {
   "cell_type": "markdown",
   "metadata": {},
   "source": [
    "----"
   ]
  },
  {
   "cell_type": "markdown",
   "metadata": {},
   "source": [
    "DADOS DO REQUERENTE"
   ]
  },
  {
   "cell_type": "code",
   "execution_count": null,
   "metadata": {},
   "outputs": [],
   "source": [
    "driver = webdriver.Chrome(service=ChromeService(\n",
    "    ChromeDriverManager().install()))\n",
    "\n",
    "#entrando no EPROC \n",
    "driver.get(\"https://eproc.trf4.jus.br/eproc2trf4/controlador.php?acao=painel_adv_listar&acao_origem=principal&hash=c5248d6d478eb887a337ddea295c6e21\")\n",
    "\n",
    "time.sleep(3)\n",
    "botao_log_certificado = driver.find_element(\"xpath\", '//*[@id=\"imgCertificado\"]')\n",
    "botao_log_certificado.click()\n",
    "time.sleep (10)\n",
    "\n",
    "navegador = driver.find_element(\"xpath\", \"/html/body/div[2]/div[2]/div[2]/div/div[1]/form[2]/div[2]/div[1]/div/fieldset[4]/table/tbody/tr[2]/td[1]\").\n"
   ]
  },
  {
   "cell_type": "markdown",
   "metadata": {},
   "source": [
    "COM REQUEST"
   ]
  },
  {
   "cell_type": "code",
   "execution_count": null,
   "metadata": {},
   "outputs": [],
   "source": [
    "driver = webdriver.Chrome(service=ChromeService(\n",
    "    ChromeDriverManager().install()))\n",
    "\n",
    "#entrando no EPROC \n",
    "navegador = driver.get(\"https://eproc.trf4.jus.br/eproc2trf4/controlador.php?acao=painel_adv_listar&acao_origem=principal&hash=c5248d6d478eb887a337ddea295c6e21\")\n",
    "\n",
    "time.sleep(3)\n",
    "botao_log_certificado = driver.find_element(\"xpath\", '//*[@id=\"imgCertificado\"]')\n",
    "botao_log_certificado.click()\n",
    "time.sleep (10)\n",
    "\n",
    "html = requests.get(navegador)\n",
    "print(html.text)"
   ]
  }
 ],
 "metadata": {
  "kernelspec": {
   "display_name": "Python 3.9.7 ('base')",
   "language": "python",
   "name": "python3"
  },
  "language_info": {
   "codemirror_mode": {
    "name": "ipython",
    "version": 3
   },
   "file_extension": ".py",
   "mimetype": "text/x-python",
   "name": "python",
   "nbconvert_exporter": "python",
   "pygments_lexer": "ipython3",
   "version": "3.9.7 (default, Sep 16 2021, 16:59:28) [MSC v.1916 64 bit (AMD64)]"
  },
  "orig_nbformat": 4,
  "vscode": {
   "interpreter": {
    "hash": "ad2bdc8ecc057115af97d19610ffacc2b4e99fae6737bb82f5d7fb13d2f2c186"
   }
  }
 },
 "nbformat": 4,
 "nbformat_minor": 2
}
